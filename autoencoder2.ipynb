{
  "nbformat": 4,
  "nbformat_minor": 0,
  "metadata": {
    "colab": {
      "provenance": [],
      "authorship_tag": "ABX9TyOeSr7OzDG2dUAQnKUCaNzJ",
      "include_colab_link": true
    },
    "kernelspec": {
      "name": "python3",
      "display_name": "Python 3"
    },
    "language_info": {
      "name": "python"
    }
  },
  "cells": [
    {
      "cell_type": "markdown",
      "metadata": {
        "id": "view-in-github",
        "colab_type": "text"
      },
      "source": [
        "<a href=\"https://colab.research.google.com/github/vikamayr/Computer-Vision/blob/master/autoencoder2.ipynb\" target=\"_parent\"><img src=\"https://colab.research.google.com/assets/colab-badge.svg\" alt=\"Open In Colab\"/></a>"
      ]
    },
    {
      "cell_type": "code",
      "execution_count": 1,
      "metadata": {
        "id": "JlPrmiBT_Lzh"
      },
      "outputs": [],
      "source": [
        "# import necessary modules\n",
        "import tensorflow as tf\n",
        "import matplotlib.pyplot as plt\n",
        "import numpy as np\n",
        "\n",
        "import random\n",
        "import glob\n",
        "from PIL import Image\n",
        "import shutil"
      ]
    },
    {
      "cell_type": "code",
      "source": [
        "# USING AUTOENCODERS IN ANOTHER WAY\n",
        "# Source Separation with Deep Generative Priors https://arxiv.org/pdf/2002.07942.pdf\n",
        "# \n"
      ],
      "metadata": {
        "id": "VbbbbJrU_PfF"
      },
      "execution_count": 2,
      "outputs": []
    },
    {
      "cell_type": "code",
      "source": [
        "# Load in the full CIFAR10 dataset\n",
        "cifar10 = tf.keras.datasets.cifar10\n",
        "(x_train, y_train), (x_test, y_test) = cifar10.load_data()\n",
        "print(x_train.shape, y_train.shape, x_test.shape, y_test.shape)"
      ],
      "metadata": {
        "colab": {
          "base_uri": "https://localhost:8080/"
        },
        "id": "ZStlqG-V_Tly",
        "outputId": "af9e4cc7-b027-4b19-d7cd-6b263bfe9eff"
      },
      "execution_count": 3,
      "outputs": [
        {
          "output_type": "stream",
          "name": "stdout",
          "text": [
            "Downloading data from https://www.cs.toronto.edu/~kriz/cifar-10-python.tar.gz\n",
            "170498071/170498071 [==============================] - 6s 0us/step\n",
            "(50000, 32, 32, 3) (50000, 1) (10000, 32, 32, 3) (10000, 1)\n"
          ]
        }
      ]
    },
    {
      "cell_type": "code",
      "source": [
        "# Create Dataset of 1000 CIFAR10 images\n",
        "from sklearn.model_selection import train_test_split\n",
        "X_train, X_test, Y_train, Y_test = train_test_split(x_train, y_train, train_size=0.02, test_size=0.1, random_state=42)\n",
        "print(X_train.shape)"
      ],
      "metadata": {
        "colab": {
          "base_uri": "https://localhost:8080/"
        },
        "id": "JhYZhgnw_W-S",
        "outputId": "cc17db33-56e4-4e66-d578-5a5caf56aa81"
      },
      "execution_count": 4,
      "outputs": [
        {
          "output_type": "stream",
          "name": "stdout",
          "text": [
            "(1000, 32, 32, 3)\n"
          ]
        }
      ]
    },
    {
      "cell_type": "code",
      "source": [
        "# Visualize two sample images and combination of those\n",
        "\n",
        "sample1 = random.randint(0, 999)\n",
        "sample2 = random.randint(0, 999)\n",
        "combined = (X_train[sample1] + X_train[sample2])/2\n",
        "combined = combined.astype(np.uint8)\n",
        "\n",
        "#print(combined.dtype)\n",
        "#print(combined.max())\n",
        "#print(combined.min())\n",
        "#print(X_train[sample1].dtype)\n",
        "#print(X_train[sample1].max())\n",
        "#print(X_train[sample1].min())\n",
        "\n",
        "fig, axs = plt.subplots(1,3,figsize=(10,10))\n",
        "[axi.set_axis_off() for axi in axs.ravel()]\n",
        "\n",
        "axs[0].imshow(X_train[sample1])\n",
        "axs[1].imshow(X_train[sample2])\n",
        "axs[2].imshow(combined)\n",
        "\n"
      ],
      "metadata": {
        "colab": {
          "base_uri": "https://localhost:8080/",
          "height": 212
        },
        "id": "Fz9JvmhS_YyL",
        "outputId": "704cb97b-a9ba-47d1-90be-0913ce53b2b8"
      },
      "execution_count": 5,
      "outputs": [
        {
          "output_type": "execute_result",
          "data": {
            "text/plain": [
              "<matplotlib.image.AxesImage at 0x7f284126aaf0>"
            ]
          },
          "metadata": {},
          "execution_count": 5
        },
        {
          "output_type": "display_data",
          "data": {
            "text/plain": [
              "<Figure size 720x720 with 3 Axes>"
            ],
            "image/png": "[encoded data removed]"
          },
          "metadata": {
            "needs_background": "light"
          }
        }
      ]
    },
    {
      "cell_type": "code",
      "source": [
        "# Given a pair of images from CIFAR10 x1 and x2, build a network that can return both images given their average (x1+x2)/2 as the only input.\n",
        "\n",
        "# combined image x1_x2 of x1 and x2 -> ML model -> return x1 and x2\n",
        "# input 1 sample of 32x32x3 image - output 2 samples of 32x32x3 images"
      ],
      "metadata": {
        "id": "99PXFx-1_bxd"
      },
      "execution_count": 6,
      "outputs": []
    }
  ]
}